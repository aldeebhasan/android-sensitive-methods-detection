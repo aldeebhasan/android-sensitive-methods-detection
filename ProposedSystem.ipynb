{
  "nbformat": 4,
  "nbformat_minor": 0,
  "metadata": {
    "colab": {
      "name": "Evasion.ipynb",
      "provenance": []
    },
    "kernelspec": {
      "name": "python3",
      "display_name": "Python 3"
    },
    "language_info": {
      "name": "python"
    }
  },
  "cells": [
    {
      "cell_type": "code",
      "metadata": {
        "id": "QJz_nZ158UI7"
      },
      "source": [
        "import pandas as pd\n",
        "import numpy as np\n",
        "from sklearn.ensemble import RandomForestClassifier, AdaBoostClassifier\n",
        "from collections import Counter\n",
        "from sklearn.model_selection import train_test_split\n",
        "from sklearn.preprocessing import LabelEncoder\n",
        "from sklearn.metrics import classification_report, confusion_matrix, accuracy_score\n"
      ],
      "execution_count": 3,
      "outputs": []
    },
    {
      "cell_type": "code",
      "metadata": {
        "id": "YABrUaXE8X2j"
      },
      "source": [
        "_lableEncoder = {}\n",
        "\n",
        "data = pd.read_csv('merge_extended.txt',sep=\";\")\n",
        "transformed_data = data.drop(['Category', 'MethodName'], axis=1)\n",
        "transformed_label =data.loc[:,['Category']]\n",
        "for column in transformed_data.columns:\n",
        "    _lableEncoder[column] = LabelEncoder()\n",
        "\n",
        "\n",
        "for encoder in _lableEncoder.keys():\n",
        "    transformed_data[encoder] = _lableEncoder[encoder].fit_transform(transformed_data[encoder])\n",
        "\n"
      ],
      "execution_count": 4,
      "outputs": []
    },
    {
      "cell_type": "code",
      "metadata": {
        "id": "O2_w-kExLqBU"
      },
      "source": [
        "binaryData = transformed_data.copy()\n",
        "binaryLabel = transformed_label.copy()"
      ],
      "execution_count": 5,
      "outputs": []
    },
    {
      "cell_type": "code",
      "metadata": {
        "id": "19eGoOZ9GiU_"
      },
      "source": [
        "binaryLabel.loc[ transformed_label['Category'] != \"Normal\", \"Category\"] = \"Sensitive\"\n",
        "binaryLabel.loc[transformed_label['Category'] == \"Normal\", \"Category\"] = \"Normal\"\n"
      ],
      "execution_count": 6,
      "outputs": []
    },
    {
      "cell_type": "code",
      "metadata": {
        "id": "PwmFiiVpI2JJ",
        "colab": {
          "base_uri": "https://localhost:8080/",
          "height": 419
        },
        "outputId": "d4e6e083-0df5-4fb5-d060-5cb1cee31bcf"
      },
      "source": [
        "binaryLabel"
      ],
      "execution_count": 7,
      "outputs": [
        {
          "output_type": "execute_result",
          "data": {
            "text/html": [
              "<div>\n",
              "<style scoped>\n",
              "    .dataframe tbody tr th:only-of-type {\n",
              "        vertical-align: middle;\n",
              "    }\n",
              "\n",
              "    .dataframe tbody tr th {\n",
              "        vertical-align: top;\n",
              "    }\n",
              "\n",
              "    .dataframe thead th {\n",
              "        text-align: right;\n",
              "    }\n",
              "</style>\n",
              "<table border=\"1\" class=\"dataframe\">\n",
              "  <thead>\n",
              "    <tr style=\"text-align: right;\">\n",
              "      <th></th>\n",
              "      <th>Category</th>\n",
              "    </tr>\n",
              "  </thead>\n",
              "  <tbody>\n",
              "    <tr>\n",
              "      <th>0</th>\n",
              "      <td>NonEvasion</td>\n",
              "    </tr>\n",
              "    <tr>\n",
              "      <th>1</th>\n",
              "      <td>NonEvasion</td>\n",
              "    </tr>\n",
              "    <tr>\n",
              "      <th>2</th>\n",
              "      <td>NonEvasion</td>\n",
              "    </tr>\n",
              "    <tr>\n",
              "      <th>3</th>\n",
              "      <td>NonEvasion</td>\n",
              "    </tr>\n",
              "    <tr>\n",
              "      <th>4</th>\n",
              "      <td>NonEvasion</td>\n",
              "    </tr>\n",
              "    <tr>\n",
              "      <th>...</th>\n",
              "      <td>...</td>\n",
              "    </tr>\n",
              "    <tr>\n",
              "      <th>294</th>\n",
              "      <td>Evasion</td>\n",
              "    </tr>\n",
              "    <tr>\n",
              "      <th>295</th>\n",
              "      <td>Evasion</td>\n",
              "    </tr>\n",
              "    <tr>\n",
              "      <th>296</th>\n",
              "      <td>Evasion</td>\n",
              "    </tr>\n",
              "    <tr>\n",
              "      <th>297</th>\n",
              "      <td>Evasion</td>\n",
              "    </tr>\n",
              "    <tr>\n",
              "      <th>298</th>\n",
              "      <td>Evasion</td>\n",
              "    </tr>\n",
              "  </tbody>\n",
              "</table>\n",
              "<p>299 rows × 1 columns</p>\n",
              "</div>"
            ],
            "text/plain": [
              "       Category\n",
              "0    NonEvasion\n",
              "1    NonEvasion\n",
              "2    NonEvasion\n",
              "3    NonEvasion\n",
              "4    NonEvasion\n",
              "..          ...\n",
              "294     Evasion\n",
              "295     Evasion\n",
              "296     Evasion\n",
              "297     Evasion\n",
              "298     Evasion\n",
              "\n",
              "[299 rows x 1 columns]"
            ]
          },
          "metadata": {},
          "execution_count": 7
        }
      ]
    },
    {
      "cell_type": "code",
      "metadata": {
        "colab": {
          "base_uri": "https://localhost:8080/"
        },
        "id": "cEfV1jA18l3L",
        "outputId": "7e0d47b3-1fe0-4c96-9794-f49c42667b91"
      },
      "source": [
        "## binary calssifier\n",
        "X = binaryData.iloc[:].values\n",
        "Y = binaryLabel.iloc[:].values\n",
        "\n",
        "X_train, X_test, y_train, y_test = train_test_split(X, Y, test_size=0.33,  random_state=88)\n",
        "\n",
        "clf = RandomForestClassifier(max_depth=10, random_state=0)\n",
        "clf.fit(X_train, y_train)\n",
        "y_pred = clf.predict(X_test)\n"
      ],
      "execution_count": 8,
      "outputs": [
        {
          "output_type": "stream",
          "name": "stderr",
          "text": [
            "/usr/local/lib/python3.7/dist-packages/ipykernel_launcher.py:8: DataConversionWarning: A column-vector y was passed when a 1d array was expected. Please change the shape of y to (n_samples,), for example using ravel().\n",
            "  \n"
          ]
        }
      ]
    },
    {
      "cell_type": "code",
      "metadata": {
        "id": "_ytVxNjgHqj9",
        "colab": {
          "base_uri": "https://localhost:8080/"
        },
        "outputId": "c53b45d4-2845-4069-e01d-b67572e2513d"
      },
      "source": [
        "y_pred"
      ],
      "execution_count": 9,
      "outputs": [
        {
          "output_type": "execute_result",
          "data": {
            "text/plain": [
              "array(['NonEvasion', 'NonEvasion', 'NonEvasion', 'NonEvasion',\n",
              "       'NonEvasion', 'Evasion', 'Evasion', 'NonEvasion', 'Evasion',\n",
              "       'Evasion', 'Evasion', 'NonEvasion', 'Evasion', 'NonEvasion',\n",
              "       'NonEvasion', 'Evasion', 'Evasion', 'Evasion', 'Evasion',\n",
              "       'Evasion', 'NonEvasion', 'Evasion', 'Evasion', 'Evasion',\n",
              "       'NonEvasion', 'Evasion', 'Evasion', 'Evasion', 'NonEvasion',\n",
              "       'NonEvasion', 'NonEvasion', 'Evasion', 'Evasion', 'NonEvasion',\n",
              "       'NonEvasion', 'NonEvasion', 'Evasion', 'Evasion', 'Evasion',\n",
              "       'NonEvasion', 'NonEvasion', 'NonEvasion', 'Evasion', 'NonEvasion',\n",
              "       'NonEvasion', 'NonEvasion', 'NonEvasion', 'Evasion', 'NonEvasion',\n",
              "       'NonEvasion', 'NonEvasion', 'NonEvasion', 'NonEvasion', 'Evasion',\n",
              "       'Evasion', 'Evasion', 'Evasion', 'NonEvasion', 'Evasion',\n",
              "       'NonEvasion', 'Evasion', 'Evasion', 'Evasion', 'Evasion',\n",
              "       'Evasion', 'NonEvasion', 'Evasion', 'NonEvasion', 'NonEvasion',\n",
              "       'NonEvasion', 'NonEvasion', 'NonEvasion', 'Evasion', 'Evasion',\n",
              "       'Evasion', 'Evasion', 'Evasion', 'Evasion', 'Evasion', 'Evasion',\n",
              "       'Evasion', 'Evasion', 'Evasion', 'Evasion', 'Evasion',\n",
              "       'NonEvasion', 'Evasion', 'NonEvasion', 'Evasion', 'NonEvasion',\n",
              "       'NonEvasion', 'NonEvasion', 'NonEvasion', 'NonEvasion',\n",
              "       'NonEvasion', 'NonEvasion', 'NonEvasion', 'NonEvasion',\n",
              "       'NonEvasion'], dtype=object)"
            ]
          },
          "metadata": {},
          "execution_count": 9
        }
      ]
    },
    {
      "cell_type": "code",
      "metadata": {
        "colab": {
          "base_uri": "https://localhost:8080/"
        },
        "id": "JPNYWPngFA97",
        "outputId": "634da623-45eb-485b-a135-345b9c9b9841"
      },
      "source": [
        "print('#####confusion_matrix####')\n",
        "print(confusion_matrix(y_test,y_pred))\n",
        "print('#####classification_report####')\n",
        "print(classification_report(y_test,y_pred))\n",
        "print('#####accuracy_score####')\n",
        "print(accuracy_score(y_test, y_pred))"
      ],
      "execution_count": 10,
      "outputs": [
        {
          "output_type": "stream",
          "name": "stdout",
          "text": [
            "#####confusion_matrix####\n",
            "[[43  6]\n",
            " [ 7 43]]\n",
            "#####classification_report####\n",
            "              precision    recall  f1-score   support\n",
            "\n",
            "     Evasion       0.86      0.88      0.87        49\n",
            "  NonEvasion       0.88      0.86      0.87        50\n",
            "\n",
            "    accuracy                           0.87        99\n",
            "   macro avg       0.87      0.87      0.87        99\n",
            "weighted avg       0.87      0.87      0.87        99\n",
            "\n",
            "#####accuracy_score####\n",
            "0.8686868686868687\n"
          ]
        }
      ]
    },
    {
      "cell_type": "code",
      "metadata": {
        "id": "L3Toi98y8xlK"
      },
      "source": [
        "secondData = transformed_data.copy()\n",
        "secondLabel = transformed_label.copy()\n",
        "\n",
        "drop_index = secondData[ secondLabel['Category'] =='Normal'].index\n",
        "secondData.drop(drop_index, inplace = True)\n",
        "secondLabel.drop(drop_index, inplace = True)\n",
        "\n"
      ],
      "execution_count": 11,
      "outputs": []
    },
    {
      "cell_type": "code",
      "metadata": {
        "colab": {
          "base_uri": "https://localhost:8080/"
        },
        "id": "uT7SKG4dFu66",
        "outputId": "08c0e657-bfd1-422f-efc2-2af40b2fc654"
      },
      "source": [
        "X = secondData.iloc[:].values\n",
        "Y = secondLabel.iloc[:].values\n",
        "\n",
        "X_train, X_test, y_train, y_test = train_test_split(X, Y, test_size=0.33,  random_state=88)\n",
        "\n",
        "clf = RandomForestClassifier(max_depth=12, random_state=0)\n",
        "clf.fit(X_train, y_train)\n",
        "y_pred = clf.predict(X_test)"
      ],
      "execution_count": 12,
      "outputs": [
        {
          "output_type": "stream",
          "name": "stderr",
          "text": [
            "/usr/local/lib/python3.7/dist-packages/ipykernel_launcher.py:7: DataConversionWarning: A column-vector y was passed when a 1d array was expected. Please change the shape of y to (n_samples,), for example using ravel().\n",
            "  import sys\n"
          ]
        }
      ]
    },
    {
      "cell_type": "code",
      "metadata": {
        "colab": {
          "base_uri": "https://localhost:8080/"
        },
        "id": "yozCuF0HF9j4",
        "outputId": "c9d3d338-f85f-4f1e-a9bf-3b236f0020d1"
      },
      "source": [
        "print('#####confusion_matrix####')\n",
        "print(confusion_matrix(y_test,y_pred))\n",
        "print('#####classification_report####')\n",
        "print(classification_report(y_test,y_pred))\n",
        "print('#####accuracy_score####')\n",
        "print(accuracy_score(y_test, y_pred))"
      ],
      "execution_count": 13,
      "outputs": [
        {
          "output_type": "stream",
          "name": "stdout",
          "text": [
            "#####confusion_matrix####\n",
            "[[ 4  0  0  0  0  0]\n",
            " [ 0  1  0  0  0  0]\n",
            " [ 0  0  5  1  1  5]\n",
            " [ 1  0  0  2  0  0]\n",
            " [ 1  0  0  0  5  0]\n",
            " [ 0  0  1  0  0 23]]\n",
            "#####classification_report####\n",
            "                precision    recall  f1-score   support\n",
            "\n",
            "    FileAccess       0.67      1.00      0.80         4\n",
            "IntegrityCheck       1.00      1.00      1.00         1\n",
            "      Location       0.83      0.42      0.56        12\n",
            "           SMS       0.67      0.67      0.67         3\n",
            "          Time       0.83      0.83      0.83         6\n",
            " antiEmulation       0.82      0.96      0.88        24\n",
            "\n",
            "      accuracy                           0.80        50\n",
            "     macro avg       0.80      0.81      0.79        50\n",
            "  weighted avg       0.81      0.80      0.78        50\n",
            "\n",
            "#####accuracy_score####\n",
            "0.8\n"
          ]
        }
      ]
    },
    {
      "cell_type": "code",
      "metadata": {
        "id": "xknVxYXqP3pM"
      },
      "source": [
        ""
      ],
      "execution_count": 13,
      "outputs": []
    }
  ]
}
